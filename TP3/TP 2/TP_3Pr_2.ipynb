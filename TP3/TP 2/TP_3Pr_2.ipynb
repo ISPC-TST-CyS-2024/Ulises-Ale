{
  "nbformat": 4,
  "nbformat_minor": 0,
  "metadata": {
    "colab": {
      "provenance": []
    },
    "kernelspec": {
      "name": "python3",
      "display_name": "Python 3"
    },
    "language_info": {
      "name": "python"
    }
  },
  "cells": [
    {
      "cell_type": "markdown",
      "source": [
        "# **Sistema de control dinámico en lazo cerrado.**\n",
        "\n",
        "1. Función de Transferencia del Sistema\n",
        "Consideraremos un sistema que puede ser representado por la siguiente función de transferencia de primer orden:\n",
        "\n",
        "𝐺\n",
        "(\n",
        "𝑠\n",
        ")\n",
        "=\n",
        "𝐾\n",
        "𝜏\n",
        "𝑠\n",
        "+\n",
        "1\n",
        "G(s)=\n",
        "τs+1\n",
        "K\n",
        "​\n",
        "\n",
        "\n",
        "donde:\n",
        "\n",
        "𝐾\n",
        "K es la ganancia del sistema.\n",
        "𝜏\n",
        "τ es la constante de tiempo del sistema.\n",
        "2. Controlador PID\n",
        "El controlador PID puede ser descrito por:\n",
        "\n",
        "𝐶\n",
        "(\n",
        "𝑠\n",
        ")\n",
        "=\n",
        "𝐾\n",
        "𝑝\n",
        "+\n",
        "𝐾\n",
        "𝑖\n",
        "𝑠\n",
        "+\n",
        "𝐾\n",
        "𝑑\n",
        "𝑠\n",
        "C(s)=K\n",
        "p\n",
        "​\n",
        " +\n",
        "s\n",
        "K\n",
        "i\n",
        "​\n",
        "\n",
        "​\n",
        " +K\n",
        "d\n",
        "​\n",
        " s\n",
        "\n",
        "donde:\n",
        "\n",
        "𝐾\n",
        "𝑝\n",
        "K\n",
        "p\n",
        "​\n",
        "  es la ganancia proporcional.\n",
        "𝐾\n",
        "𝑖\n",
        "K\n",
        "i\n",
        "​\n",
        "  es la ganancia integral.\n",
        "𝐾\n",
        "𝑑\n",
        "K\n",
        "d\n",
        "​\n",
        "  es la ganancia derivativa.\n",
        "3. Simulación y Respuesta al Escalón\n",
        "Utilizaremos la aproximación de Euler para discretizar el sistema y simular la respuesta temporal."
      ],
      "metadata": {
        "id": "JWNNoVqzX1Sa"
      }
    },
    {
      "cell_type": "code",
      "execution_count": null,
      "metadata": {
        "id": "6GzW_vdyXw2D"
      },
      "outputs": [],
      "source": []
    },
    {
      "cell_type": "code",
      "source": [
        "import numpy as np\n",
        "import matplotlib.pyplot as plt\n",
        "\n",
        "def step_response(K, tau, Kp, Ki, Kd, T_final, dt):\n",
        "    # Tiempo de simulación\n",
        "    t = np.arange(0, T_final, dt)\n",
        "\n",
        "    # Respuesta del sistema\n",
        "    y = np.zeros(len(t))\n",
        "    e = np.zeros(len(t))\n",
        "    integral = 0\n",
        "    derivative = 0\n",
        "    u = 0\n",
        "\n",
        "    # Entrada de escalón\n",
        "    step = np.ones(len(t))\n",
        "\n",
        "    for i in range(1, len(t)):\n",
        "        # Error\n",
        "        e[i] = step[i] - y[i-1]\n",
        "\n",
        "        # PID Controller\n",
        "        integral += e[i] * dt\n",
        "        derivative = (e[i] - e[i-1]) / dt\n",
        "        u = Kp * e[i] + Ki * integral + Kd * derivative\n",
        "\n",
        "        # Modelo del sistema (Euler)\n",
        "        y[i] = y[i-1] + dt * ((K * u - y[i-1]) / tau)\n",
        "\n",
        "    return t, y\n",
        "\n",
        "# Parámetros del sistema\n",
        "K = 2.0\n",
        "tau = 1.0\n",
        "\n",
        "# Parámetros del controlador PID\n",
        "Kp = 3.0\n",
        "Ki = 0.1\n",
        "Kd = 1.0\n",
        "\n",
        "# Simulación\n",
        "t, y = step_response(K, tau, Kp, Ki, Kd, T_final=10, dt=0.01)\n",
        "\n",
        "# Graficar la respuesta\n",
        "plt.figure(figsize=(10, 5))\n",
        "plt.plot(t, y, label='Respuesta al escalón')\n",
        "plt.title('Respuesta al Escalón del Sistema de Control en Lazo Cerrado')\n",
        "plt.xlabel('Tiempo (s)')\n",
        "plt.ylabel('Respuesta del Sistema')\n",
        "plt.grid(True)\n",
        "plt.legend()\n",
        "plt.show()\n"
      ],
      "metadata": {
        "colab": {
          "base_uri": "https://localhost:8080/",
          "height": 557
        },
        "id": "dt4pQmwyYQO3",
        "outputId": "3b369dff-0c96-44ef-b5cf-179fe9a972b4"
      },
      "execution_count": 1,
      "outputs": [
        {
          "output_type": "stream",
          "name": "stderr",
          "text": [
            "<ipython-input-1-00beafc00d4f>:28: RuntimeWarning: overflow encountered in scalar multiply\n",
            "  y[i] = y[i-1] + dt * ((K * u - y[i-1]) / tau)\n",
            "<ipython-input-1-00beafc00d4f>:28: RuntimeWarning: invalid value encountered in scalar add\n",
            "  y[i] = y[i-1] + dt * ((K * u - y[i-1]) / tau)\n"
          ]
        },
        {
          "output_type": "display_data",
          "data": {
            "text/plain": [
              "<Figure size 1000x500 with 1 Axes>"
            ],
            "image/png": "[encoded data removed]"
          },
          "metadata": {}
        }
      ]
    },
    {
      "cell_type": "markdown",
      "source": [
        "4. Análisis de los Resultados  \n",
        "Este código simula la respuesta al escalón de un sistema controlado por un controlador PID. Puedes variar los parámetros\n",
        "𝐾\n",
        "𝑝\n",
        "K\n",
        "p\n",
        "​\n",
        " ,\n",
        "𝐾\n",
        "𝑖\n",
        "K\n",
        "i\n",
        "​\n",
        " , y\n",
        "𝐾\n",
        "𝑑\n",
        "K\n",
        "d\n",
        "​\n",
        "  para ver cómo afectan la estabilidad, el tiempo de establecimiento, el sobrepaso y el error en estado estacionario del sistema.\n",
        "\n",
        "* Aumentar\n",
        "𝐾\n",
        "𝑝\n",
        "​\n",
        " puede reducir el tiempo de establecimiento pero también puede aumentar el sobrepaso.  \n",
        "* Aumentar\n",
        "𝐾\n",
        "𝑖\n",
        "​\n",
        "  ayuda a eliminar el error en estado estacionario pero puede introducir oscilaciones si es demasiado alto.  \n",
        "* 𝐾\n",
        "𝑑\n",
        "​\n",
        "  ayuda a mejorar la respuesta transitoria y reducir el sobrepaso."
      ],
      "metadata": {
        "id": "RimogAPDYXrW"
      }
    }
  ]
}